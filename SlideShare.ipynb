{
 "cells": [
  {
   "cell_type": "code",
   "execution_count": 2,
   "metadata": {},
   "outputs": [
    {
     "name": "stderr",
     "output_type": "stream",
     "text": [
      "C:\\anaconda\\lib\\site-packages\\h5py\\__init__.py:36: FutureWarning: Conversion of the second argument of issubdtype from `float` to `np.floating` is deprecated. In future, it will be treated as `np.float64 == np.dtype(float).type`.\n",
      "  from ._conv import register_converters as _register_converters\n"
     ]
    }
   ],
   "source": [
    "import tensorflow as tf # once execution in nb\n",
    "sess1 = tf.InteractiveSession() # once execution in nb\n",
    "\n",
    "sess = tf.Session()"
   ]
  },
  {
   "cell_type": "code",
   "execution_count": 5,
   "metadata": {},
   "outputs": [
    {
     "name": "stdout",
     "output_type": "stream",
     "text": [
      "[-2. -2.]\n"
     ]
    },
    {
     "name": "stderr",
     "output_type": "stream",
     "text": [
      "C:\\anaconda\\lib\\site-packages\\tensorflow\\python\\client\\session.py:1714: UserWarning: An interactive session is already active. This can cause out-of-memory errors in some cases. You must explicitly call `InteractiveSession.close()` to release resources held by the other session(s).\n",
      "  warnings.warn('An interactive session is already active. This can '\n"
     ]
    }
   ],
   "source": [
    "# variable initializer\n",
    "\n",
    "x = tf.Variable([1., 2.])\n",
    "a = tf.constant([3., 4.])\n",
    "\n",
    "x.initializer.run()  # variable initializer \n",
    "\n",
    "sub = tf.subtract(x, a)\n",
    "\n",
    "# .eval()\n",
    "\n",
    "print(sub.eval())\n",
    "\n",
    "sess.close()"
   ]
  },
  {
   "cell_type": "code",
   "execution_count": 6,
   "metadata": {},
   "outputs": [
    {
     "name": "stdout",
     "output_type": "stream",
     "text": [
      "[-2. -2.]\n",
      "[4. 6.]\n"
     ]
    },
    {
     "name": "stderr",
     "output_type": "stream",
     "text": [
      "C:\\anaconda\\lib\\site-packages\\tensorflow\\python\\client\\session.py:1714: UserWarning: An interactive session is already active. This can cause out-of-memory errors in some cases. You must explicitly call `InteractiveSession.close()` to release resources held by the other session(s).\n",
      "  warnings.warn('An interactive session is already active. This can '\n"
     ]
    }
   ],
   "source": [
    "# variable initializer\n",
    "sess = tf.InteractiveSession()\n",
    "\n",
    "x = tf.Variable([1., 2.])\n",
    "a = tf.constant([3., 4.])\n",
    "\n",
    "x.initializer.run()  # variable initializer \n",
    "\n",
    "sub = tf.subtract(x, a)\n",
    "\n",
    "# .eval()\n",
    "\n",
    "print(sub.eval())\n",
    "\n",
    "print(tf.add(x,a).eval())\n",
    "\n",
    "sess.close()"
   ]
  },
  {
   "cell_type": "code",
   "execution_count": 7,
   "metadata": {},
   "outputs": [],
   "source": [
    "sess.close()"
   ]
  },
  {
   "cell_type": "code",
   "execution_count": null,
   "metadata": {},
   "outputs": [],
   "source": [
    "# variable initializer\n",
    "sess = tf.InteractiveSession()\n",
    "\n",
    "x = tf.Variable([1., 2.])\n",
    "a = tf.constant([3., 4.])\n",
    "\n",
    "x.initializer.run()  # variable initializer \n",
    "\n",
    "sub = tf.subtract(x, a)\n",
    "\n",
    "# .eval()\n",
    "\n",
    "print(sub.eval())\n",
    "\n",
    "print(tf.add(x,a).eval())\n",
    "\n",
    "sub.eval() # python command line \n",
    "\n",
    "sess.close()"
   ]
  },
  {
   "cell_type": "code",
   "execution_count": 9,
   "metadata": {},
   "outputs": [
    {
     "name": "stdout",
     "output_type": "stream",
     "text": [
      "[-2. -2.]\n",
      "[4. 6.]\n"
     ]
    }
   ],
   "source": [
    "x = tf.Variable([1., 2.])\n",
    "a = tf.constant([3., 4.])\n",
    "\n",
    "x.initializer.run() # variable initializer \n",
    "\n",
    "sub = tf.subtract(x, a)\n",
    "\n",
    "# .eval()\n",
    "\n",
    "print(sub.eval())\n",
    "\n",
    "print(tf.add(x,a).eval())"
   ]
  },
  {
   "cell_type": "code",
   "execution_count": 15,
   "metadata": {},
   "outputs": [
    {
     "name": "stdout",
     "output_type": "stream",
     "text": [
      "9.0\n",
      "20.0\n"
     ]
    }
   ],
   "source": [
    "a = tf.constant(4.)\n",
    "b = tf.constant(5.)\n",
    "\n",
    "print(tf.add(b,a).eval())\n",
    "\n",
    "print(tf.multiply(b,a).eval())\n"
   ]
  },
  {
   "cell_type": "code",
   "execution_count": 18,
   "metadata": {},
   "outputs": [
    {
     "name": "stdout",
     "output_type": "stream",
     "text": [
      "4.0\n",
      "9.0\n"
     ]
    }
   ],
   "source": [
    "a = tf.constant(4.)\n",
    "b = tf.constant(5.)\n",
    "\n",
    "sess1 = tf.Session()\n",
    "\n",
    "print(sess1.run(a))\n",
    "\n",
    "print(tf.add(b,a).eval())\n",
    " "
   ]
  },
  {
   "cell_type": "code",
   "execution_count": 19,
   "metadata": {},
   "outputs": [
    {
     "name": "stdout",
     "output_type": "stream",
     "text": [
      "4.0\n"
     ]
    }
   ],
   "source": [
    "print(a.eval())"
   ]
  },
  {
   "cell_type": "code",
   "execution_count": 22,
   "metadata": {},
   "outputs": [
    {
     "name": "stdout",
     "output_type": "stream",
     "text": [
      "4.0\n",
      "20.0\n"
     ]
    }
   ],
   "source": [
    "with tf.Session() as sess2 :\n",
    "    print(sess2.run(a))\n",
    "    \n",
    "    print(sess2.run(tf.multiply(a,b)))"
   ]
  },
  {
   "cell_type": "code",
   "execution_count": 25,
   "metadata": {},
   "outputs": [
    {
     "name": "stdout",
     "output_type": "stream",
     "text": [
      "[9.0, 20.0]\n"
     ]
    }
   ],
   "source": [
    "a = tf.constant(4.)\n",
    "b = tf.constant(5.)\n",
    "\n",
    "ab = tf.add(a,b)\n",
    "axb = tf.multiply(a,b)\n",
    "\n",
    "\n",
    "with tf.Session() as sess2 :\n",
    "    result = sess2.run([ab, axb])\n",
    "    print(result) "
   ]
  },
  {
   "cell_type": "code",
   "execution_count": 29,
   "metadata": {},
   "outputs": [
    {
     "name": "stdout",
     "output_type": "stream",
     "text": [
      "[10]\n",
      "14\n"
     ]
    }
   ],
   "source": [
    "x = tf.placeholder(tf.int32)\n",
    "\n",
    "with tf.Session() as sess :\n",
    "    print(sess.run(tf.add(x,x), feed_dict={ x:[5]}))\n",
    "    print(sess.run(tf.add(x,x), feed_dict={ x: 7 }) )"
   ]
  },
  {
   "cell_type": "code",
   "execution_count": 31,
   "metadata": {},
   "outputs": [
    {
     "name": "stdout",
     "output_type": "stream",
     "text": [
      "[10]\n",
      "14\n"
     ]
    },
    {
     "name": "stderr",
     "output_type": "stream",
     "text": [
      "C:\\anaconda\\lib\\site-packages\\tensorflow\\python\\client\\session.py:1714: UserWarning: An interactive session is already active. This can cause out-of-memory errors in some cases. You must explicitly call `InteractiveSession.close()` to release resources held by the other session(s).\n",
      "  warnings.warn('An interactive session is already active. This can '\n"
     ]
    }
   ],
   "source": [
    "x = tf.placeholder(tf.int32)\n",
    "\n",
    "sess = tf.InteractiveSession()\n",
    "\n",
    "print(sess.run(tf.add(x,x), feed_dict={ x:[5]}))\n",
    "print(sess.run(tf.add(x,x), feed_dict={ x: 7 }) )"
   ]
  },
  {
   "cell_type": "code",
   "execution_count": 38,
   "metadata": {},
   "outputs": [
    {
     "name": "stdout",
     "output_type": "stream",
     "text": [
      "4.0\n",
      "[10]\n",
      "14\n"
     ]
    }
   ],
   "source": [
    "x = tf.placeholder(tf.int32)\n",
    "a = tf.constant(4.)\n",
    "\n",
    "print(a.eval())\n",
    "\n",
    "print(sess.run(tf.add(x,x), feed_dict={ x:[5]}))\n",
    "print(sess.run(tf.add(x,x), feed_dict={ x: 7 }) )"
   ]
  },
  {
   "cell_type": "code",
   "execution_count": 40,
   "metadata": {},
   "outputs": [
    {
     "name": "stdout",
     "output_type": "stream",
     "text": [
      "[9.0, 20.0]\n"
     ]
    }
   ],
   "source": [
    "a = tf.constant(4.)\n",
    "b = tf.constant(5.)\n",
    "\n",
    "ab = tf.add(a,b)\n",
    "axb = tf.multiply(a,b)\n",
    "\n",
    "sess = tf.Session()\n",
    "\n",
    "writer = tf.summary.FileWriter('c:/anaconda/tempo/second_graph', sess.graph)\n",
    "print(sess.run([ab, axb]))\n",
    "\n",
    "# tensorboard --logdir='c:/anaconda/tempo/second_graph' --host 127.0.0.1 ## anaconda open terminal"
   ]
  },
  {
   "cell_type": "code",
   "execution_count": 20,
   "metadata": {},
   "outputs": [],
   "source": [
    "graph = tf.Graph()\n",
    "\n",
    "a = tf.constant(4.)\n",
    "b = tf.constant(5.)\n",
    "\n",
    "ab = tf.add(a,b)\n",
    "axb = tf.multiply(a,b)\n",
    "\n",
    "sess = tf.Session(graph=graph)\n",
    "\n",
    "writer = tf.summary.FileWriter('c:/anaconda/tempo/second_graph', sess.graph)\n",
    "# sess.run(axb)\n",
    " \n",
    "# tensorboard --logdir='c:\\anaconda\\tempo\\second_graph' --host 127.0.0.1 ## anaconda open terminal"
   ]
  },
  {
   "cell_type": "code",
   "execution_count": 47,
   "metadata": {},
   "outputs": [],
   "source": [
    "graph = tf.Graph()\n",
    "\n",
    "with graph.as_default() :\n",
    "    a = tf.constant(4., name=\"input_a\")\n",
    "    b = tf.constant(5., name=\"input_b\")\n",
    "    ab = tf.add(a,b)\n",
    "    axb = tf.multiply(a,b)\n",
    "    "
   ]
  },
  {
   "cell_type": "code",
   "execution_count": 3,
   "metadata": {},
   "outputs": [],
   "source": [
    "sess.close()"
   ]
  },
  {
   "cell_type": "code",
   "execution_count": 17,
   "metadata": {},
   "outputs": [
    {
     "name": "stdout",
     "output_type": "stream",
     "text": [
      "20.0\n"
     ]
    }
   ],
   "source": [
    "import tensorflow as tf\n",
    "import numpy as np\n",
    "\n",
    "graph = tf.Graph()\n",
    "\n",
    "a = tf.constant(4., name=\"input_a\")\n",
    "b = tf.constant(5., name=\"input_b\")\n",
    "y = tf.Variable(a+b*2, name=\"var_y\")\n",
    "ab = tf.add(a,b)\n",
    "axb = tf.multiply(a,b)\n",
    "\n",
    "sess = tf.Session()\n",
    "sess.run(tf.global_variables_initializer())\n",
    "\n",
    "with graph.as_default():\n",
    "    merged=tf.summary.merge_all()\n",
    "    writer = tf.summary.FileWriter('c:/anaconda/tempo/second_graph', sess.graph)\n",
    "    print(sess.run(axb))"
   ]
  },
  {
   "cell_type": "code",
   "execution_count": 18,
   "metadata": {},
   "outputs": [
    {
     "name": "stdout",
     "output_type": "stream",
     "text": [
      "756\n"
     ]
    }
   ],
   "source": [
    "import tensorflow as tf\n",
    " \n",
    "a = tf.add(1, 20, name='a')\n",
    "b = tf.multiply(a ,3, name='b')\n",
    "c = tf.div(b, 5,name='c')\n",
    "e = tf.multiply(b, c,name='e')\n",
    "\n",
    "with tf.Session() as sess:\n",
    "   # writer = tf.summary.FileWriter(\"c:\\anaconda\\tempo\\graph1\",sess.graph)\n",
    "    writer = tf.summary.FileWriter('./graph2',sess.graph)\n",
    "    print(sess.run(e))\n",
    "    writer.close()"
   ]
  },
  {
   "cell_type": "code",
   "execution_count": null,
   "metadata": {},
   "outputs": [],
   "source": [
    "# anaconda open terminal  \n",
    "\n",
    "# tensorboard --logdir=\"c:\\Users\\gwihy\\ML_01\\graph2\" --host 127.0.0.1"
   ]
  },
  {
   "cell_type": "code",
   "execution_count": 23,
   "metadata": {},
   "outputs": [
    {
     "name": "stdout",
     "output_type": "stream",
     "text": [
      "756\n"
     ]
    }
   ],
   "source": [
    "a = tf.add(1, 20, name='a')\n",
    "b = tf.multiply(a ,3, name='b')\n",
    "c = tf.div(b, 5,name='c')\n",
    "e = tf.multiply(b, c,name='e')\n",
    "\n",
    "with tf.Session() as sess:\n",
    "    writer = tf.summary.FileWriter('c:/anaconda/tempo/third_graph',sess.graph)\n",
    "    print(sess.run(e))\n",
    "    writer.close() "
   ]
  },
  {
   "cell_type": "code",
   "execution_count": null,
   "metadata": {},
   "outputs": [],
   "source": [
    "# tensorboard --logdir=\"C:\\anaconda\\tempo\\third_graph\" --host 127.0.0.1\n",
    "\n",
    "# tensorboard --logdir=\"C:/anaconda/tempo/tempo_graph\" --host 127.0.0.1"
   ]
  },
  {
   "cell_type": "code",
   "execution_count": 3,
   "metadata": {},
   "outputs": [
    {
     "name": "stdout",
     "output_type": "stream",
     "text": [
      "20.0\n"
     ]
    }
   ],
   "source": [
    "a = tf.constant(4., name=\"input_a\")\n",
    "b = tf.constant(5., name=\"input_b\")\n",
    "y = tf.Variable(a+b*2, name=\"var_y\")\n",
    "ab = tf.add(a,b)\n",
    "axb = tf.multiply(a,b)\n",
    "\n",
    "with tf.Session() as sess:\n",
    "    writer = tf.summary.FileWriter('c:/anaconda/tempo/tempo_graph',sess.graph)\n",
    "    print(sess.run(axb))\n",
    "    writer.close() "
   ]
  },
  {
   "cell_type": "code",
   "execution_count": null,
   "metadata": {},
   "outputs": [],
   "source": []
  }
 ],
 "metadata": {
  "kernelspec": {
   "display_name": "Python 3",
   "language": "python",
   "name": "python3"
  },
  "language_info": {
   "codemirror_mode": {
    "name": "ipython",
    "version": 3
   },
   "file_extension": ".py",
   "mimetype": "text/x-python",
   "name": "python",
   "nbconvert_exporter": "python",
   "pygments_lexer": "ipython3",
   "version": "3.6.5"
  }
 },
 "nbformat": 4,
 "nbformat_minor": 2
}
