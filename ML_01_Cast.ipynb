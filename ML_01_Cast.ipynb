{
 "cells": [
  {
   "cell_type": "code",
   "execution_count": 1,
   "metadata": {},
   "outputs": [
    {
     "name": "stderr",
     "output_type": "stream",
     "text": [
      "C:\\anaconda\\lib\\site-packages\\h5py\\__init__.py:36: FutureWarning: Conversion of the second argument of issubdtype from `float` to `np.floating` is deprecated. In future, it will be treated as `np.float64 == np.dtype(float).type`.\n",
      "  from ._conv import register_converters as _register_converters\n"
     ]
    },
    {
     "name": "stdout",
     "output_type": "stream",
     "text": [
      "EQUALITY:  [False  True  True]\n",
      "CAST:      [0. 1. 1.]\n",
      "MEAN:      0.6666667\n"
     ]
    }
   ],
   "source": [
    "import tensorflow as tf\n",
    "\n",
    "# Two vectors, have 1 different element.\n",
    "x = [1., 2., 3.]\n",
    "y = [0., 2., 3.]\n",
    "\n",
    "# Only 2 of the 3 elements are equal.\n",
    "equality = tf.equal(x, y)\n",
    "\n",
    "# Cast the True and False values to 1 and 0.\n",
    "equality_cast = tf.cast(equality, tf.float32)\n",
    "\n",
    "# Average the values.\n",
    "# ... This gives us the percentage of elements that are equal.\n",
    "equality_mean = tf.reduce_mean(equality_cast)\n",
    "\n",
    "session = tf.Session()\n",
    "print(\"EQUALITY: \", session.run(equality))\n",
    "print(\"CAST:     \", session.run(equality_cast))\n",
    "print(\"MEAN:     \", session.run(equality_mean))"
   ]
  },
  {
   "cell_type": "code",
   "execution_count": null,
   "metadata": {},
   "outputs": [],
   "source": []
  }
 ],
 "metadata": {
  "kernelspec": {
   "display_name": "Python 3",
   "language": "python",
   "name": "python3"
  },
  "language_info": {
   "codemirror_mode": {
    "name": "ipython",
    "version": 3
   },
   "file_extension": ".py",
   "mimetype": "text/x-python",
   "name": "python",
   "nbconvert_exporter": "python",
   "pygments_lexer": "ipython3",
   "version": "3.6.5"
  }
 },
 "nbformat": 4,
 "nbformat_minor": 2
}
