{
 "cells": [
  {
   "cell_type": "code",
   "execution_count": 1,
   "metadata": {},
   "outputs": [
    {
     "ename": "ModuleNotFoundError",
     "evalue": "No module named 'holidays'",
     "output_type": "error",
     "traceback": [
      "\u001b[1;31m---------------------------------------------------------------------------\u001b[0m",
      "\u001b[1;31mModuleNotFoundError\u001b[0m                       Traceback (most recent call last)",
      "\u001b[1;32m<ipython-input-1-593543b8aaea>\u001b[0m in \u001b[0;36m<module>\u001b[1;34m\u001b[0m\n\u001b[0;32m      1\u001b[0m \u001b[1;32mfrom\u001b[0m \u001b[0mdatetime\u001b[0m \u001b[1;32mimport\u001b[0m \u001b[0mdate\u001b[0m\u001b[1;33m\u001b[0m\u001b[1;33m\u001b[0m\u001b[0m\n\u001b[1;32m----> 2\u001b[1;33m \u001b[1;32mimport\u001b[0m \u001b[0mholidays\u001b[0m\u001b[1;33m\u001b[0m\u001b[1;33m\u001b[0m\u001b[0m\n\u001b[0m\u001b[0;32m      3\u001b[0m \u001b[1;33m\u001b[0m\u001b[0m\n\u001b[0;32m      4\u001b[0m \u001b[1;31m# Select country\u001b[0m\u001b[1;33m\u001b[0m\u001b[1;33m\u001b[0m\u001b[1;33m\u001b[0m\u001b[0m\n\u001b[0;32m      5\u001b[0m \u001b[0muk_holidays\u001b[0m \u001b[1;33m=\u001b[0m \u001b[0mholidays\u001b[0m\u001b[1;33m.\u001b[0m\u001b[0mUnitedKingdom\u001b[0m\u001b[1;33m(\u001b[0m\u001b[1;33m)\u001b[0m\u001b[1;33m\u001b[0m\u001b[1;33m\u001b[0m\u001b[0m\n",
      "\u001b[1;31mModuleNotFoundError\u001b[0m: No module named 'holidays'"
     ]
    }
   ],
   "source": [
    "from datetime import date \n",
    "import holidays \n",
    "  \n",
    "# Select country \n",
    "uk_holidays = holidays.UnitedKingdom() \n",
    "  \n",
    "# Print all the holidays in UnitedKingdom in year 2019 \n",
    "for ptr in holidays.UnitedKingdom(years = 2019).items(): \n",
    "    print(ptr) "
   ]
  },
  {
   "cell_type": "code",
   "execution_count": 1,
   "metadata": {},
   "outputs": [],
   "source": [
    "# after pip install holidays\n",
    "\n",
    "from datetime import date \n",
    "import holidays "
   ]
  },
  {
   "cell_type": "code",
   "execution_count": 2,
   "metadata": {},
   "outputs": [
    {
     "name": "stdout",
     "output_type": "stream",
     "text": [
      "(datetime.date(2019, 1, 1), \"New Year's Day\")\n",
      "(datetime.date(2019, 1, 2), 'New Year Holiday [Scotland]')\n",
      "(datetime.date(2019, 3, 17), \"St. Patrick's Day [Northern Ireland]\")\n",
      "(datetime.date(2019, 3, 18), \"St. Patrick's Day [Northern Ireland] (Observed)\")\n",
      "(datetime.date(2019, 4, 19), 'Good Friday')\n",
      "(datetime.date(2019, 4, 22), 'Easter Monday [England, Wales, Northern Ireland]')\n",
      "(datetime.date(2019, 5, 6), 'May Day')\n",
      "(datetime.date(2019, 5, 27), 'Spring Bank Holiday')\n",
      "(datetime.date(2019, 7, 12), 'Battle of the Boyne [Northern Ireland]')\n",
      "(datetime.date(2019, 8, 5), 'Summer Bank Holiday [Scotland]')\n",
      "(datetime.date(2019, 8, 26), 'Late Summer Bank Holiday [England, Wales, Northern Ireland]')\n",
      "(datetime.date(2019, 11, 30), \"St. Andrew's Day [Scotland]\")\n",
      "(datetime.date(2019, 12, 25), 'Christmas Day')\n",
      "(datetime.date(2019, 12, 26), 'Boxing Day')\n"
     ]
    }
   ],
   "source": [
    "# Select country \n",
    "uk_holidays = holidays.UnitedKingdom() \n",
    "  \n",
    "# Print all the holidays in UnitedKingdom in year 2019 \n",
    "for ptr in holidays.UnitedKingdom(years = 2019).items(): \n",
    "    print(ptr) "
   ]
  },
  {
   "cell_type": "code",
   "execution_count": 4,
   "metadata": {},
   "outputs": [
    {
     "name": "stdout",
     "output_type": "stream",
     "text": [
      "['CA', 'US', 'MX']\n",
      "Canada Day\n",
      "Independence Day\n"
     ]
    }
   ],
   "source": [
    "#3 : Holidays in North America\n",
    "\n",
    "from datetime import date \n",
    "import holidays \n",
    "  \n",
    "# Combining Countries \n",
    "north_america = holidays.CA() + holidays.US() + holidays.MX() \n",
    "# Output list of countries combined \n",
    "print(north_america.country) \n",
    "  \n",
    "print(north_america.get('07-01-2018')) \n",
    "print(north_america.get('07-04-2018')) \n"
   ]
  },
  {
   "cell_type": "code",
   "execution_count": 5,
   "metadata": {},
   "outputs": [
    {
     "ename": "ModuleNotFoundError",
     "evalue": "No module named 'workalendar'",
     "output_type": "error",
     "traceback": [
      "\u001b[1;31m---------------------------------------------------------------------------\u001b[0m",
      "\u001b[1;31mModuleNotFoundError\u001b[0m                       Traceback (most recent call last)",
      "\u001b[1;32m<ipython-input-5-8053196998d2>\u001b[0m in \u001b[0;36m<module>\u001b[1;34m\u001b[0m\n\u001b[0;32m      1\u001b[0m \u001b[1;32mfrom\u001b[0m \u001b[0mdatetime\u001b[0m \u001b[1;32mimport\u001b[0m \u001b[0mdate\u001b[0m\u001b[1;33m\u001b[0m\u001b[1;33m\u001b[0m\u001b[0m\n\u001b[1;32m----> 2\u001b[1;33m \u001b[1;32mfrom\u001b[0m \u001b[0mworkalendar\u001b[0m\u001b[1;33m.\u001b[0m\u001b[0meurope\u001b[0m \u001b[1;32mimport\u001b[0m \u001b[0mFrance\u001b[0m\u001b[1;33m\u001b[0m\u001b[1;33m\u001b[0m\u001b[0m\n\u001b[0m\u001b[0;32m      3\u001b[0m \u001b[0mcal\u001b[0m \u001b[1;33m=\u001b[0m \u001b[0mFrance\u001b[0m\u001b[1;33m(\u001b[0m\u001b[1;33m)\u001b[0m\u001b[1;33m\u001b[0m\u001b[1;33m\u001b[0m\u001b[0m\n\u001b[0;32m      4\u001b[0m \u001b[0mcal\u001b[0m\u001b[1;33m.\u001b[0m\u001b[0mholidays\u001b[0m\u001b[1;33m(\u001b[0m\u001b[1;36m2019\u001b[0m\u001b[1;33m)\u001b[0m\u001b[1;33m\u001b[0m\u001b[1;33m\u001b[0m\u001b[0m\n",
      "\u001b[1;31mModuleNotFoundError\u001b[0m: No module named 'workalendar'"
     ]
    }
   ],
   "source": [
    "from datetime import date\n",
    "from workalendar.europe import France\n",
    "cal = France()\n",
    "cal.holidays(2019)"
   ]
  },
  {
   "cell_type": "code",
   "execution_count": 6,
   "metadata": {},
   "outputs": [],
   "source": [
    " class NewCountryHolidays(holidays.HolidayBase):\n",
    "     def _populate(self, year):\n",
    "         self[date(year, 1, 2)] = \"Some Federal Holiday\"\n",
    "         self[date(year, 2, 3)] = \"Another Federal Holiday\"\n",
    " hdays = NewCountryHolidays()\n"
   ]
  },
  {
   "cell_type": "code",
   "execution_count": 10,
   "metadata": {},
   "outputs": [],
   "source": [
    "class NewCountryHolidays(holidays.HolidayBase):\n",
    "     def _populate(self, year):\n",
    "         # Set default prov if not provided\n",
    "         if self.prov == None:\n",
    "                self.prov = 'XX'\n",
    "         self[date(year, 1, 2)] = \"Some Federal Holiday\"\n",
    "         if self.prov == 'XX':\n",
    "                self[date(year, 2, 3)] = \"Special XX province-only holiday\"\n",
    "                if self.prov == 'YY':\n",
    "                    self[date(year, 3, 4)] = \"Special YY province-only holiday\"\n",
    "                    hdays = NewCountryHolidays()\n",
    "                    hdays = NewCountryHolidays(prov='XX')"
   ]
  },
  {
   "cell_type": "code",
   "execution_count": 12,
   "metadata": {},
   "outputs": [
    {
     "ename": "AttributeError",
     "evalue": "module 'holidays' has no attribute 'HolidaysBase'",
     "output_type": "error",
     "traceback": [
      "\u001b[1;31m---------------------------------------------------------------------------\u001b[0m",
      "\u001b[1;31mAttributeError\u001b[0m                            Traceback (most recent call last)",
      "\u001b[1;32m<ipython-input-12-e955facc236f>\u001b[0m in \u001b[0;36m<module>\u001b[1;34m\u001b[0m\n\u001b[1;32m----> 1\u001b[1;33m \u001b[0mcustom_holidays\u001b[0m \u001b[1;33m=\u001b[0m \u001b[0mholidays\u001b[0m\u001b[1;33m.\u001b[0m\u001b[0mHolidaysBase\u001b[0m\u001b[1;33m(\u001b[0m\u001b[1;33m)\u001b[0m\u001b[1;33m\u001b[0m\u001b[1;33m\u001b[0m\u001b[0m\n\u001b[0m\u001b[0;32m      2\u001b[0m \u001b[0mcustom_holidays\u001b[0m\u001b[1;33m.\u001b[0m\u001b[0mappend\u001b[0m\u001b[1;33m(\u001b[0m\u001b[1;33m[\u001b[0m\u001b[1;34m'2019-01-01'\u001b[0m\u001b[1;33m,\u001b[0m \u001b[1;34m'07/04/2019'\u001b[0m\u001b[1;33m]\u001b[0m\u001b[1;33m)\u001b[0m\u001b[1;33m\u001b[0m\u001b[1;33m\u001b[0m\u001b[0m\n\u001b[0;32m      3\u001b[0m \u001b[0mcustom_holidays\u001b[0m\u001b[1;33m.\u001b[0m\u001b[0mappend\u001b[0m\u001b[1;33m(\u001b[0m\u001b[0mdate\u001b[0m\u001b[1;33m(\u001b[0m\u001b[1;36m2019\u001b[0m\u001b[1;33m,\u001b[0m \u001b[1;36m12\u001b[0m\u001b[1;33m,\u001b[0m \u001b[1;36m25\u001b[0m\u001b[1;33m)\u001b[0m\u001b[1;33m)\u001b[0m\u001b[1;33m\u001b[0m\u001b[1;33m\u001b[0m\u001b[0m\n",
      "\u001b[1;31mAttributeError\u001b[0m: module 'holidays' has no attribute 'HolidaysBase'"
     ]
    }
   ],
   "source": [
    "custom_holidays = holidays.HolidaysBase()\n",
    "custom_holidays.append(['2019-01-01', '07/04/2019'])\n",
    "custom_holidays.append(date(2019, 12, 25))"
   ]
  },
  {
   "cell_type": "code",
   "execution_count": null,
   "metadata": {},
   "outputs": [],
   "source": []
  }
 ],
 "metadata": {
  "kernelspec": {
   "display_name": "Python 3",
   "language": "python",
   "name": "python3"
  },
  "language_info": {
   "codemirror_mode": {
    "name": "ipython",
    "version": 3
   },
   "file_extension": ".py",
   "mimetype": "text/x-python",
   "name": "python",
   "nbconvert_exporter": "python",
   "pygments_lexer": "ipython3",
   "version": "3.7.1"
  }
 },
 "nbformat": 4,
 "nbformat_minor": 2
}
