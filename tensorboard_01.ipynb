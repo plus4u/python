{
 "cells": [
  {
   "cell_type": "code",
   "execution_count": null,
   "metadata": {},
   "outputs": [],
   "source": [
    "import tensorflow as tf \n",
    "\n",
    "## 1. remove old graph \n",
    "\n",
    "g = tf.Graph() \n",
    "\n",
    "with g.as_default(): \n",
    "    a = tf.constant(1.0) \n",
    "    b = tf.constant(1.0) \n"
   ]
  },
  {
   "cell_type": "code",
   "execution_count": 9,
   "metadata": {},
   "outputs": [
    {
     "ename": "NameError",
     "evalue": "name 'origin_variable' is not defined",
     "output_type": "error",
     "traceback": [
      "\u001b[1;31m---------------------------------------------------------------------------\u001b[0m",
      "\u001b[1;31mNameError\u001b[0m                                 Traceback (most recent call last)",
      "\u001b[1;32m<ipython-input-9-651da6633feb>\u001b[0m in \u001b[0;36m<module>\u001b[1;34m\u001b[0m\n\u001b[0;32m     35\u001b[0m   \u001b[1;31m#  trained_variable = variable.eval()\u001b[0m\u001b[1;33m\u001b[0m\u001b[1;33m\u001b[0m\u001b[0m\n\u001b[0;32m     36\u001b[0m  \u001b[1;31m#   trained_loss = loss.eval()\u001b[0m\u001b[1;33m\u001b[0m\u001b[1;33m\u001b[0m\u001b[0m\n\u001b[1;32m---> 37\u001b[1;33m     \u001b[0mprint\u001b[0m\u001b[1;33m(\u001b[0m\u001b[1;34m\" [origin] : variable = {}, loss(900-variable) = {}\"\u001b[0m\u001b[1;33m.\u001b[0m\u001b[0mformat\u001b[0m\u001b[1;33m(\u001b[0m\u001b[0morigin_variable\u001b[0m\u001b[1;33m,\u001b[0m \u001b[0morigin_loss\u001b[0m\u001b[1;33m)\u001b[0m\u001b[1;33m)\u001b[0m\u001b[1;33m\u001b[0m\u001b[0m\n\u001b[0m\u001b[0;32m     38\u001b[0m     \u001b[0mprint\u001b[0m\u001b[1;33m(\u001b[0m\u001b[1;34m\"[trained] : variable = {}, loss(900-variable) = {}\"\u001b[0m\u001b[1;33m.\u001b[0m\u001b[0mformat\u001b[0m\u001b[1;33m(\u001b[0m\u001b[0mtrained_variable\u001b[0m\u001b[1;33m,\u001b[0m \u001b[0mtrained_loss\u001b[0m\u001b[1;33m)\u001b[0m\u001b[1;33m)\u001b[0m\u001b[1;33m\u001b[0m\u001b[0m\n\u001b[0;32m     39\u001b[0m \u001b[1;33m\u001b[0m\u001b[0m\n",
      "\u001b[1;31mNameError\u001b[0m: name 'origin_variable' is not defined"
     ]
    }
   ],
   "source": [
    "## 2. compare with  # 1  \n",
    "\n",
    "import tensorflow as tf \n",
    "import numpy as np \n",
    "\n",
    "# STEP 1 \n",
    "\n",
    "g = tf.Graph() \n",
    "session = tf.Session(graph = g) \n",
    "\n",
    "# STEP 2 \n",
    "with g.as_default(): \n",
    "    \n",
    "# STEP 3 (loss = constant - variable = 900 - variable) \n",
    "    constant = tf.constant(900.) \n",
    "    variable = tf.get_variable(\"variable\", []) \n",
    "    loss = tf.subtract(constant, variable) \n",
    "\n",
    "# STEP 4 \n",
    "    global_step = tf.Variable(0, name=\"global_step\", trainable=False)\n",
    "    optimizer = tf.train.AdamOptimizer(10) \n",
    "    grads_and_vars = optimizer.compute_gradients(loss)\n",
    "    train_op = optimizer.apply_gradients(grads_and_vars, global_step=global_step, name=\"train_op\") \n",
    "\n",
    "# STEP 5 \n",
    "    init_op = tf.global_variables_initializer() \n",
    "    session.run(init_op) \n",
    "    \n",
    "\n",
    "# 결과 출력\n",
    "\n",
    " #   origin_variable = variable.eval()\n",
    " #   origin_loss = loss.eval() \n",
    "    session.run([train_op]) \n",
    "  #  trained_variable = variable.eval() \n",
    " #   trained_loss = loss.eval() \n",
    "    print(\" [origin] : variable = {}, loss(900-variable) = {}\".format(origin_variable, origin_loss)) \n",
    "    print(\"[trained] : variable = {}, loss(900-variable) = {}\".format(trained_variable, trained_loss))\n",
    "\n"
   ]
  },
  {
   "cell_type": "code",
   "execution_count": 11,
   "metadata": {},
   "outputs": [
    {
     "name": "stdout",
     "output_type": "stream",
     "text": [
      "<tensorflow.python.framework.ops.Graph object at 0x0000017696287160>\n"
     ]
    }
   ],
   "source": [
    "print(tf.get_default_graph())"
   ]
  },
  {
   "cell_type": "code",
   "execution_count": 10,
   "metadata": {},
   "outputs": [
    {
     "name": "stdout",
     "output_type": "stream",
     "text": [
      "[3, 9]\n"
     ]
    }
   ],
   "source": [
    "## 3  \n",
    "\n",
    "import tensorflow as tf \n",
    "\n",
    "x = tf.constant(3)\n",
    "y = x**2\n",
    "\n",
    "with tf.Session() as sess:\n",
    "    out = sess.run([x, y])\n",
    "    print(out)"
   ]
  },
  {
   "cell_type": "code",
   "execution_count": 15,
   "metadata": {},
   "outputs": [
    {
     "name": "stdout",
     "output_type": "stream",
     "text": [
      "[3, 9]\n"
     ]
    }
   ],
   "source": [
    "my_graph = tf.Graph()\n",
    "\n",
    "with my_graph.as_default():\n",
    "    my_x = tf.constant(3)\n",
    "    my_y = my_x ** 2\n",
    "    \n",
    "    with tf.Session(graph=my_graph) as sess:\n",
    "        out = sess.run([my_x, my_y])\n",
    "        print(out)"
   ]
  },
  {
   "cell_type": "code",
   "execution_count": 16,
   "metadata": {},
   "outputs": [
    {
     "data": {
      "text/plain": [
       "(3, 9)"
      ]
     },
     "execution_count": 16,
     "metadata": {},
     "output_type": "execute_result"
    }
   ],
   "source": [
    "interactive_sess = tf.InteractiveSession()\n",
    "\n",
    "x.eval(), y.eval()"
   ]
  },
  {
   "cell_type": "code",
   "execution_count": 17,
   "metadata": {},
   "outputs": [
    {
     "name": "stdout",
     "output_type": "stream",
     "text": [
      "[3, 9]\n"
     ]
    }
   ],
   "source": [
    "with tf.Session().as_default():\n",
    "    print([x.eval(), y.eval()])"
   ]
  },
  {
   "cell_type": "code",
   "execution_count": null,
   "metadata": {},
   "outputs": [],
   "source": []
  },
  {
   "cell_type": "code",
   "execution_count": null,
   "metadata": {},
   "outputs": [],
   "source": [
    "## tensorboard home page : not working\n",
    "\n",
    "# 1. Using Graph.as_default():\n",
    "g = tf.Graph()\n",
    "with g.as_default():\n",
    "  c = tf.constant(5.0)\n",
    "  assert c.graph is g\n",
    "\n",
    "# 2. Constructing and making default:\n",
    "with tf.Graph().as_default() as g:\n",
    "  c = tf.constant(5.0)\n",
    "  assert c.graph is g"
   ]
  },
  {
   "cell_type": "code",
   "execution_count": 5,
   "metadata": {},
   "outputs": [],
   "source": [
    "# 샘플1. graph 생성하고 saver로 저장\n",
    "import tensorflow as tf\n",
    " \n",
    "g = tf.Graph()\n",
    " \n",
    "with g.as_default():\n",
    "    v0 = tf.placeholder(tf.int32, name=\"V0\")\n",
    "    v1 = tf.Variable(10, name=\"v1\")\n",
    "    v2 = tf.Variable(20, name=\"v2\")\n",
    "    v3 = tf.add(v0, v2, name=\"add\")\n",
    " \n",
    "with tf.Session(graph=g) as sess:\n",
    "    saver = tf.train.Saver()\n",
    "    sess.run(tf.global_variables_initializer())\n",
    "    save_path = saver.save(sess, \"./saved/test1\")\n",
    "    feed_dict = {v0:7}\n",
    "    output = sess.run([v3], feed_dict=feed_dict)\n",
    " "
   ]
  },
  {
   "cell_type": "code",
   "execution_count": 6,
   "metadata": {},
   "outputs": [
    {
     "ename": "AttributeError",
     "evalue": "'Session' object has no attribute 'tf'",
     "output_type": "error",
     "traceback": [
      "\u001b[1;31m---------------------------------------------------------------------------\u001b[0m",
      "\u001b[1;31mAttributeError\u001b[0m                            Traceback (most recent call last)",
      "\u001b[1;32m<ipython-input-6-4f98a922d30d>\u001b[0m in \u001b[0;36m<module>\u001b[1;34m\u001b[0m\n\u001b[0;32m      4\u001b[0m \u001b[1;32mwith\u001b[0m \u001b[0mtf\u001b[0m\u001b[1;33m.\u001b[0m\u001b[0mSession\u001b[0m\u001b[1;33m(\u001b[0m\u001b[1;33m)\u001b[0m \u001b[1;32mas\u001b[0m \u001b[0msess\u001b[0m\u001b[1;33m:\u001b[0m\u001b[1;33m\u001b[0m\u001b[0m\n\u001b[0;32m      5\u001b[0m     \u001b[0mnew_saver\u001b[0m \u001b[1;33m=\u001b[0m \u001b[0mtf\u001b[0m\u001b[1;33m.\u001b[0m\u001b[0mtrain\u001b[0m\u001b[1;33m.\u001b[0m\u001b[0mimport_meta_graph\u001b[0m\u001b[1;33m(\u001b[0m\u001b[1;34m\"saved/test1.meta\"\u001b[0m\u001b[1;33m)\u001b[0m\u001b[1;33m\u001b[0m\u001b[0m\n\u001b[1;32m----> 6\u001b[1;33m     \u001b[0mnew_saver\u001b[0m\u001b[1;33m.\u001b[0m\u001b[0mrestore\u001b[0m\u001b[1;33m(\u001b[0m\u001b[0msess\u001b[0m\u001b[1;33m.\u001b[0m \u001b[0mtf\u001b[0m\u001b[1;33m.\u001b[0m\u001b[0mtrain\u001b[0m\u001b[1;33m.\u001b[0m\u001b[0mlatest_checkpoint\u001b[0m\u001b[1;33m(\u001b[0m\u001b[1;34m\"./saved\"\u001b[0m\u001b[1;33m)\u001b[0m\u001b[1;33m)\u001b[0m\u001b[1;33m\u001b[0m\u001b[0m\n\u001b[0m\u001b[0;32m      7\u001b[0m \u001b[1;33m\u001b[0m\u001b[0m\n\u001b[0;32m      8\u001b[0m     \u001b[0mg\u001b[0m \u001b[1;33m=\u001b[0m \u001b[0mtf\u001b[0m\u001b[1;33m.\u001b[0m\u001b[0mget_default_graph\u001b[0m\u001b[1;33m(\u001b[0m\u001b[1;33m)\u001b[0m\u001b[1;33m\u001b[0m\u001b[0m\n",
      "\u001b[1;31mAttributeError\u001b[0m: 'Session' object has no attribute 'tf'"
     ]
    }
   ],
   "source": [
    "# 샘플2. meta파일로부터 graph 복구하고 variable restore\n",
    "\n",
    "import tensorflow as tf\n",
    " \n",
    "with tf.Session() as sess:\n",
    "    new_saver = tf.train.import_meta_graph(\"saved/test1.meta\")\n",
    "    new_saver.restore(sess. tf.train.latest_checkpoint(\"./saved\"))\n",
    " \n",
    "    g = tf.get_default_graph()\n",
    "    \n",
    "    g_collection_key_list = g.get_all_collection_keys()\n",
    " \n",
    "    g_collection_list = g.get_collection(g_collection_key_list[0])\n",
    " \n",
    "    oper_list = g.get_operations()\n",
    "    \n",
    "    # 기존 그래프를 import, 새로운 데이터를입력으로 사용하여 연산\n",
    "    new_v0 = g.get_tensor_by_name(\"v0:0\")\n",
    "    feed_dict = {new_v0:9}\n",
    "    output = sess.run([\"v3:0\"], feed_dict=feed_dict)\n",
    "    print(output)\n",
    " \n",
    "    # 기존 그래프에 새로운 그래프를 연결하여 연산\n",
    "    new_v3 = g.get_tensor_by_name(\"v3:0\")\n",
    "    add_on_op = tf.multiply(new_v3, 3, name=\"multiply\")\n",
    "    print(sess.run(add_on_op, feed_dict)) "
   ]
  },
  {
   "cell_type": "code",
   "execution_count": 4,
   "metadata": {},
   "outputs": [
    {
     "ename": "SyntaxError",
     "evalue": "invalid syntax (<ipython-input-4-101b70d3d9f7>, line 12)",
     "output_type": "error",
     "traceback": [
      "\u001b[1;36m  File \u001b[1;32m\"<ipython-input-4-101b70d3d9f7>\"\u001b[1;36m, line \u001b[1;32m12\u001b[0m\n\u001b[1;33m    tf.summary.scalar(\"mean\", mean)\u001b[0m\n\u001b[1;37m     ^\u001b[0m\n\u001b[1;31mSyntaxError\u001b[0m\u001b[1;31m:\u001b[0m invalid syntax\n"
     ]
    }
   ],
   "source": [
    "import tensorflow as tf\n",
    "\n",
    "def example(var, train_step, feed_dict):\n",
    "  with tf.name-scope('summary_example'):\n",
    "    \"\"\"\n",
    "    1,2,3 과정에서 operations 등록하고\n",
    "    5에서 실행하고, 6에서 저장    \n",
    "    \"\"\"\n",
    "    # 1. 기록할 변수들 summary로 등록\n",
    "    mean = tf.reduce_mean()\n",
    "    stddev = tf.sqrt9tf.erduce_mean(tf.square(var = mean)\n",
    "    tf.summary.scalar(\"mean\", mean)\n",
    "    tf.summary.scalar('stddev', stddev)\n",
    "\n",
    "    # 2. 여러 summary들 통합\n",
    "    merged = tf.summary.merge_all()\n",
    "\n",
    "    # 3. disk에 쓸 writer operation 생성\n",
    "    train_writer = tf.summary.FileWriter(FLAGS.summaries_dir + '/train', sess.graph)\n",
    "\n",
    "    tf.global_variables_initializer().run()\n",
    "\n",
    "    step = 1\n",
    "    # 4. run해서 결과 data 얻기\n",
    "    summary, _ sess.run([merged, train_step], feed_dict=feed_dict)\n",
    "   \n",
    "    # 5. run해서 얻은 결과 저장\n",
    "    train_writer.add_summary(summary, step) "
   ]
  },
  {
   "cell_type": "code",
   "execution_count": 1,
   "metadata": {},
   "outputs": [
    {
     "ename": "ValueError",
     "evalue": "Cannot evaluate tensor using `eval()`: No default session is registered. Use `with sess.as_default()` or pass an explicit session to `eval(session=sess)`",
     "output_type": "error",
     "traceback": [
      "\u001b[1;31m---------------------------------------------------------------------------\u001b[0m",
      "\u001b[1;31mValueError\u001b[0m                                Traceback (most recent call last)",
      "\u001b[1;32m<ipython-input-1-03fc04c7e23f>\u001b[0m in \u001b[0;36m<module>\u001b[1;34m\u001b[0m\n\u001b[0;32m     24\u001b[0m \u001b[1;33m\u001b[0m\u001b[0m\n\u001b[0;32m     25\u001b[0m     \u001b[1;31m# 결과 출력\u001b[0m\u001b[1;33m\u001b[0m\u001b[1;33m\u001b[0m\u001b[0m\n\u001b[1;32m---> 26\u001b[1;33m     \u001b[0morigin_variable\u001b[0m \u001b[1;33m=\u001b[0m \u001b[0mvariable\u001b[0m\u001b[1;33m.\u001b[0m\u001b[0meval\u001b[0m\u001b[1;33m(\u001b[0m\u001b[1;33m)\u001b[0m\u001b[1;33m\u001b[0m\u001b[0m\n\u001b[0m\u001b[0;32m     27\u001b[0m     \u001b[0morigin_loss\u001b[0m \u001b[1;33m=\u001b[0m \u001b[0mloss\u001b[0m\u001b[1;33m.\u001b[0m\u001b[0meval\u001b[0m\u001b[1;33m(\u001b[0m\u001b[1;33m)\u001b[0m\u001b[1;33m\u001b[0m\u001b[0m\n\u001b[0;32m     28\u001b[0m     \u001b[0msession\u001b[0m\u001b[1;33m.\u001b[0m\u001b[0mrun\u001b[0m\u001b[1;33m(\u001b[0m\u001b[1;33m[\u001b[0m\u001b[0mtrain_op\u001b[0m\u001b[1;33m]\u001b[0m\u001b[1;33m)\u001b[0m\u001b[1;33m\u001b[0m\u001b[0m\n",
      "\u001b[1;32mc:\\users\\beomc\\anaconda3\\envs\\py35\\lib\\site-packages\\tensorflow\\python\\ops\\variables.py\u001b[0m in \u001b[0;36meval\u001b[1;34m(self, session)\u001b[0m\n\u001b[0;32m   1649\u001b[0m       \u001b[0mA\u001b[0m \u001b[0mnumpy\u001b[0m\u001b[0;31m \u001b[0m\u001b[0;31m`\u001b[0m\u001b[0mndarray\u001b[0m\u001b[0;31m`\u001b[0m \u001b[1;32mwith\u001b[0m \u001b[0ma\u001b[0m \u001b[0mcopy\u001b[0m \u001b[0mof\u001b[0m \u001b[0mthe\u001b[0m \u001b[0mvalue\u001b[0m \u001b[0mof\u001b[0m \u001b[0mthis\u001b[0m \u001b[0mvariable\u001b[0m\u001b[1;33m.\u001b[0m\u001b[1;33m\u001b[0m\u001b[0m\n\u001b[0;32m   1650\u001b[0m     \"\"\"\n\u001b[1;32m-> 1651\u001b[1;33m     \u001b[1;32mreturn\u001b[0m \u001b[0mself\u001b[0m\u001b[1;33m.\u001b[0m\u001b[0m_variable\u001b[0m\u001b[1;33m.\u001b[0m\u001b[0meval\u001b[0m\u001b[1;33m(\u001b[0m\u001b[0msession\u001b[0m\u001b[1;33m=\u001b[0m\u001b[0msession\u001b[0m\u001b[1;33m)\u001b[0m\u001b[1;33m\u001b[0m\u001b[0m\n\u001b[0m\u001b[0;32m   1652\u001b[0m \u001b[1;33m\u001b[0m\u001b[0m\n\u001b[0;32m   1653\u001b[0m   \u001b[1;32mdef\u001b[0m \u001b[0minitialized_value\u001b[0m\u001b[1;33m(\u001b[0m\u001b[0mself\u001b[0m\u001b[1;33m)\u001b[0m\u001b[1;33m:\u001b[0m\u001b[1;33m\u001b[0m\u001b[0m\n",
      "\u001b[1;32mc:\\users\\beomc\\anaconda3\\envs\\py35\\lib\\site-packages\\tensorflow\\python\\framework\\ops.py\u001b[0m in \u001b[0;36meval\u001b[1;34m(self, feed_dict, session)\u001b[0m\n\u001b[0;32m    711\u001b[0m \u001b[1;33m\u001b[0m\u001b[0m\n\u001b[0;32m    712\u001b[0m     \"\"\"\n\u001b[1;32m--> 713\u001b[1;33m     \u001b[1;32mreturn\u001b[0m \u001b[0m_eval_using_default_session\u001b[0m\u001b[1;33m(\u001b[0m\u001b[0mself\u001b[0m\u001b[1;33m,\u001b[0m \u001b[0mfeed_dict\u001b[0m\u001b[1;33m,\u001b[0m \u001b[0mself\u001b[0m\u001b[1;33m.\u001b[0m\u001b[0mgraph\u001b[0m\u001b[1;33m,\u001b[0m \u001b[0msession\u001b[0m\u001b[1;33m)\u001b[0m\u001b[1;33m\u001b[0m\u001b[0m\n\u001b[0m\u001b[0;32m    714\u001b[0m \u001b[1;33m\u001b[0m\u001b[0m\n\u001b[0;32m    715\u001b[0m \u001b[1;33m\u001b[0m\u001b[0m\n",
      "\u001b[1;32mc:\\users\\beomc\\anaconda3\\envs\\py35\\lib\\site-packages\\tensorflow\\python\\framework\\ops.py\u001b[0m in \u001b[0;36m_eval_using_default_session\u001b[1;34m(tensors, feed_dict, graph, session)\u001b[0m\n\u001b[0;32m   5141\u001b[0m     \u001b[0msession\u001b[0m \u001b[1;33m=\u001b[0m \u001b[0mget_default_session\u001b[0m\u001b[1;33m(\u001b[0m\u001b[1;33m)\u001b[0m\u001b[1;33m\u001b[0m\u001b[0m\n\u001b[0;32m   5142\u001b[0m     \u001b[1;32mif\u001b[0m \u001b[0msession\u001b[0m \u001b[1;32mis\u001b[0m \u001b[1;32mNone\u001b[0m\u001b[1;33m:\u001b[0m\u001b[1;33m\u001b[0m\u001b[0m\n\u001b[1;32m-> 5143\u001b[1;33m       raise ValueError(\"Cannot evaluate tensor using `eval()`: No default \"\n\u001b[0m\u001b[0;32m   5144\u001b[0m                        \u001b[1;34m\"session is registered. Use `with \"\u001b[0m\u001b[1;33m\u001b[0m\u001b[0m\n\u001b[0;32m   5145\u001b[0m                        \u001b[1;34m\"sess.as_default()` or pass an explicit session to \"\u001b[0m\u001b[1;33m\u001b[0m\u001b[0m\n",
      "\u001b[1;31mValueError\u001b[0m: Cannot evaluate tensor using `eval()`: No default session is registered. Use `with sess.as_default()` or pass an explicit session to `eval(session=sess)`"
     ]
    }
   ],
   "source": [
    "import tensorflow as tf\n",
    "\n",
    "# STEP 1\n",
    "g = tf.Graph()\n",
    "session = tf.Session(graph = g)\n",
    "\n",
    "# STEP 2\n",
    "with g.as_default():\n",
    "\n",
    "    # STEP 3 (loss = constant - variable = 900 - variable)\n",
    "    constant = tf.constant(900.)\n",
    "    variable = tf.get_variable(\"variable\", []) \n",
    "    loss = tf.subtract(constant, variable)\n",
    "\n",
    "    # STEP 4\n",
    "    global_step = tf.Variable(0, name=\"global_step\", trainable=False)\n",
    "    optimizer = tf.train.AdamOptimizer(10)\n",
    "    grads_and_vars = optimizer.compute_gradients(loss)\n",
    "    train_op = optimizer.apply_gradients(grads_and_vars, global_step=global_step, name=\"train_op\")\n",
    "\n",
    "    # STEP 5\n",
    "    init_op = tf.global_variables_initializer()\n",
    "    session.run(init_op)\n",
    "\n",
    "    # 결과 출력\n",
    "    origin_variable = variable.eval()\n",
    "    origin_loss = loss.eval()\n",
    "    session.run([train_op])\n",
    "    trained_variable = variable.eval()\n",
    "    trained_loss = loss.eval()\n",
    "    print(\" [origin] : variable = {}, loss(900-variable) = {}\".format(origin_variable, origin_loss))    \n",
    "    print(\"[trained] : variable = {}, loss(900-variable) = {}\".format(trained_variable, trained_loss)) "
   ]
  },
  {
   "cell_type": "code",
   "execution_count": null,
   "metadata": {},
   "outputs": [],
   "source": []
  }
 ],
 "metadata": {
  "kernelspec": {
   "display_name": "Python 3",
   "language": "python",
   "name": "python3"
  },
  "language_info": {
   "codemirror_mode": {
    "name": "ipython",
    "version": 3
   },
   "file_extension": ".py",
   "mimetype": "text/x-python",
   "name": "python",
   "nbconvert_exporter": "python",
   "pygments_lexer": "ipython3",
   "version": "3.5.3"
  }
 },
 "nbformat": 4,
 "nbformat_minor": 2
}
